{
 "cells": [
  {
   "cell_type": "code",
   "execution_count": 1,
   "metadata": {},
   "outputs": [],
   "source": [
    "import pandas as pd\n",
    "from sklearn.model_selection import train_test_split\n",
    "from sklearn.feature_extraction.text import CountVectorizer, TfidfTransformer\n",
    "from sklearn.neural_network import MLPClassifier\n",
    "from sklearn.metrics import f1_score"
   ]
  },
  {
   "cell_type": "code",
   "execution_count": 2,
   "metadata": {},
   "outputs": [],
   "source": [
    "dataset = pd.read_csv('imdb.csv')\n",
    "dataset.head()\n",
    "dataset = dataset[:1000]"
   ]
  },
  {
   "cell_type": "markdown",
   "metadata": {},
   "source": [
    "# Create Vectors"
   ]
  },
  {
   "cell_type": "code",
   "execution_count": 3,
   "metadata": {},
   "outputs": [
    {
     "name": "stdout",
     "output_type": "stream",
     "text": [
      "(1000, 17625)\n"
     ]
    }
   ],
   "source": [
    "count = CountVectorizer(stop_words='english')\n",
    "X = count.fit_transform(dataset['review'])\n",
    "\n",
    "print(X.shape)"
   ]
  },
  {
   "cell_type": "code",
   "execution_count": 4,
   "metadata": {},
   "outputs": [
    {
     "name": "stdout",
     "output_type": "stream",
     "text": [
      "(1000, 17624)\n",
      "(1000, 17625)\n",
      "(1000, 17625)\n",
      "(1000, 80)\n",
      "(1000, 22)\n",
      "(1000, 9)\n"
     ]
    }
   ],
   "source": [
    "count_60 = CountVectorizer(stop_words='english', max_df = 0.6)\n",
    "X_60 = count_60.fit_transform(dataset['review'])\n",
    "count_70 = CountVectorizer(stop_words='english', max_df = 0.7)\n",
    "X_70 = count_70.fit_transform(dataset['review'])\n",
    "count_80 = CountVectorizer(stop_words='english', max_df = 0.8)\n",
    "X_80 = count_80.fit_transform(dataset['review'])\n",
    "\n",
    "count_10 = CountVectorizer(stop_words='english', min_df = 0.1)\n",
    "X_10 = count_10.fit_transform(dataset['review'])\n",
    "count_20 = CountVectorizer(stop_words='english', min_df = 0.2)\n",
    "X_20 = count_20.fit_transform(dataset['review'])\n",
    "count_30 = CountVectorizer(stop_words='english', min_df = 0.3)\n",
    "X_30 = count_30.fit_transform(dataset['review'])\n",
    "\n",
    "print(X_60.shape)\n",
    "print(X_70.shape)\n",
    "print(X_80.shape)\n",
    "\n",
    "print(X_10.shape)\n",
    "print(X_20.shape)\n",
    "print(X_30.shape)"
   ]
  },
  {
   "cell_type": "markdown",
   "metadata": {},
   "source": [
    "# Transform"
   ]
  },
  {
   "cell_type": "code",
   "execution_count": 5,
   "metadata": {},
   "outputs": [],
   "source": [
    "tfidf = TfidfTransformer()"
   ]
  },
  {
   "cell_type": "code",
   "execution_count": 6,
   "metadata": {},
   "outputs": [],
   "source": [
    "X_60_ = tfidf.fit_transform(X_60)\n",
    "X_70_ = tfidf.fit_transform(X_70)\n",
    "X_80_ = tfidf.fit_transform(X_80)\n",
    "\n",
    "X_10_ = tfidf.fit_transform(X_10)\n",
    "X_20_ = tfidf.fit_transform(X_20)\n",
    "X_30_ = tfidf.fit_transform(X_30)\n"
   ]
  },
  {
   "cell_type": "code",
   "execution_count": 7,
   "metadata": {},
   "outputs": [],
   "source": [
    "X_train, X_test, y_train, y_test = train_test_split(X, dataset['sentiment'], test_size=0.33)\n",
    "\n",
    "X_train_60, X_test_60, y_train_60, y_test_60 = train_test_split(X_60_, dataset['sentiment'], test_size=0.33)\n",
    "X_train_70, X_test_70, y_train_70, y_test_70 = train_test_split(X_70_, dataset['sentiment'], test_size=0.33)\n",
    "X_train_80, X_test_80, y_train_80, y_test_80 = train_test_split(X_80_, dataset['sentiment'], test_size=0.33)\n",
    "\n",
    "X_train_10, X_test_10, y_train_10, y_test_10 = train_test_split(X_10_, dataset['sentiment'], test_size=0.33)\n",
    "X_train_20, X_test_20, y_train_20, y_test_20 = train_test_split(X_20_, dataset['sentiment'], test_size=0.33)\n",
    "X_train_30, X_test_30, y_train_30, y_test_30 = train_test_split(X_30_, dataset['sentiment'], test_size=0.33)\n"
   ]
  },
  {
   "cell_type": "markdown",
   "metadata": {},
   "source": [
    "# Fiting"
   ]
  },
  {
   "cell_type": "code",
   "execution_count": 8,
   "metadata": {
    "scrolled": false
   },
   "outputs": [
    {
     "data": {
      "text/plain": [
       "MLPClassifier(activation='relu', alpha=0.0001, batch_size='auto', beta_1=0.9,\n",
       "              beta_2=0.999, early_stopping=False, epsilon=1e-08,\n",
       "              hidden_layer_sizes=(100,), learning_rate='constant',\n",
       "              learning_rate_init=0.001, max_iter=300, momentum=0.9,\n",
       "              n_iter_no_change=10, nesterovs_momentum=True, power_t=0.5,\n",
       "              random_state=None, shuffle=True, solver='adam', tol=0.0001,\n",
       "              validation_fraction=0.1, verbose=False, warm_start=False)"
      ]
     },
     "execution_count": 8,
     "metadata": {},
     "output_type": "execute_result"
    }
   ],
   "source": [
    "model = MLPClassifier(max_iter=300)\n",
    "model.fit(X_train, y_train)"
   ]
  },
  {
   "cell_type": "code",
   "execution_count": 9,
   "metadata": {},
   "outputs": [
    {
     "name": "stdout",
     "output_type": "stream",
     "text": [
      "score: 0.8090909090909091\n",
      "perda: 0.004518810196017992\n",
      "f1 score: 0.821529745042493\n"
     ]
    }
   ],
   "source": [
    "# fit max 60\n",
    "\n",
    "model.fit(X_train_60, y_train_60)\n",
    "\n",
    "# Score max 60\n",
    "\n",
    "print('score: ' + str(model.score(X_test_60, y_test_60)))\n",
    "print('perda: ' + str(model.loss_))\n",
    "\n",
    "# predict max 60\n",
    "\n",
    "predict_60 = model.predict(X_test_60)\n",
    "\n",
    "# f1 score max 60\n",
    "\n",
    "print('f1 score: ' + str(f1_score(y_test_60, list(predict_60), pos_label=\"positive\")))"
   ]
  },
  {
   "cell_type": "code",
   "execution_count": 10,
   "metadata": {},
   "outputs": [
    {
     "name": "stdout",
     "output_type": "stream",
     "text": [
      "score: 0.8212121212121212\n",
      "perda: 0.004665947456594473\n",
      "f1 score: 0.8259587020648967\n"
     ]
    }
   ],
   "source": [
    "# fit max 70\n",
    "\n",
    "model.fit(X_train_70, y_train_70)\n",
    "\n",
    "# Score max 70\n",
    "\n",
    "print('score: ' + str(model.score(X_test_70, y_test_70)))\n",
    "print('perda: ' + str(model.loss_))\n",
    "\n",
    "# predict max 70\n",
    "\n",
    "predict_70 = model.predict(X_test_70)\n",
    "\n",
    "# f1 score max 70\n",
    "\n",
    "print('f1 score: ' + str(f1_score(y_test_70, list(predict_70), pos_label=\"positive\")))"
   ]
  },
  {
   "cell_type": "code",
   "execution_count": 11,
   "metadata": {},
   "outputs": [
    {
     "name": "stdout",
     "output_type": "stream",
     "text": [
      "score: 0.803030303030303\n",
      "perda: 0.0045239529144014785\n",
      "f1 score: 0.7962382445141065\n"
     ]
    }
   ],
   "source": [
    "# fit max 80\n",
    "\n",
    "model.fit(X_train_80, y_train_80)\n",
    "\n",
    "# Score max 80\n",
    "\n",
    "print('score: ' + str(model.score(X_test_80, y_test_80)))\n",
    "print('perda: ' + str(model.loss_))\n",
    "\n",
    "# predict max 80\n",
    "\n",
    "predict_80 = model.predict(X_test_80)\n",
    "\n",
    "# f1 score max 80\n",
    "\n",
    "print('f1 score: ' + str(f1_score(y_test_80, list(predict_80), pos_label=\"positive\")))"
   ]
  },
  {
   "cell_type": "code",
   "execution_count": 12,
   "metadata": {},
   "outputs": [
    {
     "name": "stdout",
     "output_type": "stream",
     "text": [
      "score: 0.6787878787878788\n",
      "perda: 0.09136098074860541\n",
      "f1 score: 0.6666666666666666\n"
     ]
    },
    {
     "name": "stderr",
     "output_type": "stream",
     "text": [
      "/Users/hilstah/anaconda3/lib/python3.7/site-packages/sklearn/neural_network/multilayer_perceptron.py:566: ConvergenceWarning: Stochastic Optimizer: Maximum iterations (300) reached and the optimization hasn't converged yet.\n",
      "  % self.max_iter, ConvergenceWarning)\n"
     ]
    }
   ],
   "source": [
    "# fit min 10\n",
    "\n",
    "model.fit(X_train_10, y_train_10)\n",
    "\n",
    "# Score min 10\n",
    "\n",
    "print('score: ' + str(model.score(X_test_10, y_test_10)))\n",
    "print('perda: ' + str(model.loss_))\n",
    "\n",
    "# predict min 10\n",
    "\n",
    "predict_10 = model.predict(X_test_10)\n",
    "\n",
    "# f1 score min 10\n",
    "\n",
    "print('f1 score: ' + str(f1_score(y_test_10, list(predict_10), pos_label=\"positive\")))"
   ]
  },
  {
   "cell_type": "code",
   "execution_count": 16,
   "metadata": {},
   "outputs": [
    {
     "name": "stdout",
     "output_type": "stream",
     "text": [
      "score: 0.6212121212121212\n",
      "perda: 0.3811043236093726\n",
      "f1 score: 0.6290801186943621\n"
     ]
    },
    {
     "name": "stderr",
     "output_type": "stream",
     "text": [
      "/Users/hilstah/anaconda3/lib/python3.7/site-packages/sklearn/neural_network/multilayer_perceptron.py:566: ConvergenceWarning: Stochastic Optimizer: Maximum iterations (300) reached and the optimization hasn't converged yet.\n",
      "  % self.max_iter, ConvergenceWarning)\n"
     ]
    }
   ],
   "source": [
    "# fit min 20\n",
    "\n",
    "model.fit(X_train_20, y_train_20)\n",
    "\n",
    "# Score min 20\n",
    "\n",
    "print('score: ' + str(model.score(X_test_20, y_test_20)))\n",
    "print('perda: ' + str(model.loss_))\n",
    "\n",
    "# predict min 20\n",
    "\n",
    "predict_20 = model.predict(X_test_20)\n",
    "\n",
    "# f1 score min 20\n",
    "\n",
    "print('f1 score: ' + str(f1_score(y_test_20, list(predict_20), pos_label=\"positive\")))"
   ]
  },
  {
   "cell_type": "code",
   "execution_count": 17,
   "metadata": {},
   "outputs": [
    {
     "name": "stdout",
     "output_type": "stream",
     "text": [
      "score: 0.5515151515151515\n",
      "perda: 0.6005203704818793\n",
      "f1 score: 0.5286624203821656\n"
     ]
    },
    {
     "name": "stderr",
     "output_type": "stream",
     "text": [
      "/Users/hilstah/anaconda3/lib/python3.7/site-packages/sklearn/neural_network/multilayer_perceptron.py:566: ConvergenceWarning: Stochastic Optimizer: Maximum iterations (300) reached and the optimization hasn't converged yet.\n",
      "  % self.max_iter, ConvergenceWarning)\n"
     ]
    }
   ],
   "source": [
    "# fit min 30\n",
    "\n",
    "model.fit(X_train_30, y_train_30)\n",
    "\n",
    "# Score min 30\n",
    "\n",
    "print('score: ' + str(model.score(X_test_30, y_test_30)))\n",
    "print('perda: ' + str(model.loss_))\n",
    "\n",
    "# predict min 30\n",
    "\n",
    "predict_30 = model.predict(X_test_30)\n",
    "\n",
    "# f1 score min 30\n",
    "\n",
    "print('f1 score: ' + str(f1_score(y_test_30, list(predict_30), pos_label=\"positive\")))"
   ]
  }
 ],
 "metadata": {
  "kernelspec": {
   "display_name": "Python 3",
   "language": "python",
   "name": "python3"
  },
  "language_info": {
   "codemirror_mode": {
    "name": "ipython",
    "version": 3
   },
   "file_extension": ".py",
   "mimetype": "text/x-python",
   "name": "python",
   "nbconvert_exporter": "python",
   "pygments_lexer": "ipython3",
   "version": "3.7.3"
  }
 },
 "nbformat": 4,
 "nbformat_minor": 4
}
